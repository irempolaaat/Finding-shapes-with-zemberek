{
  "nbformat": 4,
  "nbformat_minor": 0,
  "metadata": {
    "colab": {
      "provenance": []
    },
    "kernelspec": {
      "name": "python3",
      "display_name": "Python 3"
    },
    "language_info": {
      "name": "python"
    }
  },
  "cells": [
    {
      "cell_type": "code",
      "source": [
        "import pandas as pd\n",
        "\n",
        "data = pd.read_csv(\"/content/output.csv\")"
      ],
      "metadata": {
        "id": "SKTLZwL5D7DO"
      },
      "execution_count": null,
      "outputs": []
    },
    {
      "cell_type": "code",
      "execution_count": null,
      "metadata": {
        "id": "d6w94xXeTFlk"
      },
      "outputs": [],
      "source": [
        "import nltk\n",
        "from nltk.tokenize import word_tokenize\n",
        "from nltk.classify import ClassifierI\n",
        "from statistics import mode\n",
        "import pickle\n",
        "\n",
        "class VoteClassifier(ClassifierI):\n",
        "  def __init__(self, *classifiers):\n",
        "    self.classifiers = classifiers\n",
        "\n",
        "  def classify(self, features):\n",
        "    votes = []\n",
        "    for c in self.classifiers:\n",
        "      v = c.classify(features)\n",
        "      votes.append(v)\n",
        "    return mode(votes)\n",
        "\n",
        "  def confidence(self, features):\n",
        "    votes = []\n",
        "    for c in self.classifiers:\n",
        "      v = c.classify(features)\n",
        "      votes.append(v)\n",
        "\n",
        "    choice_votes = votes.count(mode(votes))\n",
        "    conf = choice_votes / len(votes)\n",
        "    return conf"
      ]
    },
    {
      "cell_type": "code",
      "source": [
        "import nltk\n",
        "import os\n",
        "nltk.download('punkt_tab')\n",
        "\n",
        "documents = []\n",
        "\n",
        "for _, row in data.iterrows():\n",
        "    documents.append((word_tokenize(row['Command']), row[' Label']))\n",
        "print(documents)\n",
        "\n",
        "os.makedirs(\"pickled_algos\", exist_ok=True)\n",
        "\n",
        "save_documents = open(\"pickled_algos/documents.pickle\",\"wb\")\n",
        "pickle.dump(documents, save_documents)\n",
        "save_documents.close()"
      ],
      "metadata": {
        "colab": {
          "base_uri": "https://localhost:8080/"
        },
        "id": "3j_2EisETJJq",
        "outputId": "5ec6f707-2d8e-482c-9e57-ee211cc827b7"
      },
      "execution_count": null,
      "outputs": [
        {
          "output_type": "stream",
          "name": "stdout",
          "text": [
            "[(['Çizgi', 'formasyonunu', 'yap'], 'Cizgi'), (['V', 'çiz'], 'V'), (['Ok', 'başı', 'yapıver'], 'Ok başı'), (['Üçgen', 'olun'], 'Üçgen'), (['Çizgi', 'çiz'], 'Cizgi'), (['V', 'formasyonu', 'oluştur'], 'V'), (['Ok', 'başı', 'şeklini', 'çiziver'], 'Ok başı'), (['Üçgen', 'haline', 'gelin'], 'Üçgen'), (['Çizgi', 'oluştur'], 'Cizgi'), (['V', 'şekli', 'yap'], 'V'), (['Ok', 'başı', 'şekline', 'bürün'], 'Ok başı'), (['Üç', 'köşeli', 'şekil', 'oluşturun'], 'Üçgen'), (['Çizgi', 'yapıver'], 'Cizgi'), (['V', 'şeklini', 'çiziver'], 'V'), (['Ok', 'başı', 'ol', 'acele'], 'Ok başı'), (['Üçgen', 'oluşturcak', 'hizaya', 'gelin'], 'Üçgen'), (['Oynayın', 'voleybol'], 'voleybol'), (['Top', 'oyna'], 'voleybol'), (['Voleybolcu', 'olun'], 'voleybol'), (['Voleybol', 'formasyonunu', 'gerçekleştirmeniz', 'gerekiyor'], 'voleybol'), (['Voleybol', 'oynamanızı', 'istirham', 'ediyorum'], 'voleybol'), (['çizgi', 'formasyonu', 'oluştur'], 'Cizgi'), (['V', 'çiz'], 'V'), (['ters', 'v', 'formasyonu', 'yap'], 'Ok başı'), (['üç', 'köşeli', 'bir', 'şekil', 'oluştur'], 'Üçgen'), (['çizgi', 'formasyonu'], 'Cizgi'), (['sürü', 'V', 'formasyonu', 'oluştursun'], 'V'), (['ok', 'başı', 'formasyonu', 'yapılsın'], 'Ok başı'), (['sürü', 'üçgen', 'formasyonu', 'oluştursun'], 'Üçgen'), (['sürü', 'çizgi', 'formasyonu', 'oluştursun'], 'Cizgi'), (['v', 'formasyonu', 'yap'], 'V'), (['ters', 'v', 'formasyonu', 'oluşturulsun'], 'Ok başı'), (['sürü', 'üçgen', 'şekli', 'çizsin'], 'Üçgen'), (['dronelar', 'çizgi', 'formasyonu', 'yaparsa', 'oldukça', 'müteşekkir', 'olurum'], 'Cizgi'), (['droneların', 'v', 'oluşturmasını', 'emrediyorum'], 'V'), (['ok', 'başı', 'formasyonu', 'yapmaya', 'ne', 'dersin'], 'Ok başı'), (['dronelar', 'üçgen', 'olsun'], 'Üçgen'), (['dronelar', 'voleybol', 'oynasın'], 'voleybol'), (['voleybol', 'oyna'], 'voleybol'), (['sürü', 'voleybol', 'oynasın'], 'voleybol'), (['sürüye', 'voleybol', 'oynat'], 'voleybol'), (['hadi', 'voleybol', 'oynayalım'], 'voleybol'), ([\"İHA'ları\", 'kullanarak', 'bir', 'çizgi', 'çiz', '.'], 'Cizgi'), (['v'], 'V'), (['ters', 'v'], 'Ok başı'), (['Üç', 'kenarlı', 'geometrik', 'şekil', 'çiz'], 'Üçgen'), (['Sürüye', 'çizgi', 'çizdirmesini', 'sağla', '.'], 'Cizgi'), (['V', 'çiz'], 'V'), (['Sürüyü', 'kullanarak', 'ok', 'başı', 'çiz'], 'Ok başı'), (['Güzel', 'bir', 'ÜÇGEN', 'çiz'], 'Üçgen'), (['Tüm', 'dronları', 'kullanarak', 'düz', 'bir', 'hat', 'çiz'], 'Cizgi'), (['elindeki', 'tüm', 'ihalar', 'ile', 'v', 'şeklini', 'oluştur'], 'V'), ([\"İHA'larla\", 'ters', 'v', 'ok', 'başı', 'çiz'], 'Ok başı'), (['üç', 'köşeli', 'bir', 'şey', 'çiz'], 'Üçgen'), (['Aga', 'dümdüz', 'bi', 'şekil', 'yap', 'bana'], 'Cizgi'), (['tüm', 'gücünü', 've', 'zekanı', 'kullanarak', 'bir', 'v', 'harfi', 'çiz'], 'V'), (['Ok', 'attığını', 'düşün', 've', 'okun', 'başındaki', 'şekli', 'yap'], 'Ok başı'), (['dronelara', 'üçlü', 'çektirmek', 'maksadıyla', 'şekillendir'], 'Üçgen'), (['voleybol', 'şovu', 'yap'], 'voleybol'), (['sürü', 'gösterisine', 'başla'], 'voleybol'), (['tüm', \"İHA'lar\", 'ile', 'voleybol', 'sürü', 'gösterisi', 'yap'], 'voleybol'), (['voleybol', 'oyuncularını', 'taklit', 'edecek', 'şekilde', 'voleybol', 'oyna'], 'voleybol'), (['Bir', 'çizgi', 'çiz'], 'Cizgi'), (['V', 'şekli', 'yarat'], 'V'), (['Ok', 'başı', 'formasyonu', 'çiz', '.'], 'Ok başı'), (['Üçgen', 'şekli', 'yap'], 'Üçgen'), (['Bir', 'çizgi', 'oluştur', '.'], 'Cizgi'), (['V', 'harfini', 'oluştur', '.'], 'V'), (['Ok', 'başı', 'oluştur', '.'], 'Ok başı'), (['Üçgen', 'şekli', 'çiz'], 'Üçgen'), (['Bir', 'çizgi', 'yarat', '.'], 'Cizgi'), (['V', 'şekli', 'tasarla', '.'], 'V'), (['Ok', 'başına', 'şekli', 'yap', '.'], 'Ok başı'), (['Üçgen', 'oluştur', '.'], 'Üçgen'), (['Bır', 'hat', 'olustur'], 'Cizgi'), (['V', 'yap', 'bakayım'], 'V'), (['Ok', 'başı', 'yapsana'], 'Ok başı'), (['Ucgen', 'cız', '.'], 'Üçgen'), (['Voleybol', 'şekline', 'geç'], 'voleybol'), (['Voleyboy', 'oyna'], 'voleybol'), (['Voleybol', 'moduna', 'geç'], 'voleybol'), (['Voleybol', 'maçı', 'yapın'], 'voleybol'), (['Voleybol', 'oynayin', '.'], 'voleybol'), (['Cizgi', 'ciz', '.'], 'Cizgi'), (['V', 'formunu', 'olustur', '.'], 'V'), (['Ok', 'basi', 'cizdir'], 'Ok başı'), (['ucgen', 'sekli', 'ciz'], 'Üçgen'), (['Dronelar', 'ile', 'cizgi', 'seklinde', 'formasyon', 'ciz', '.'], 'Cizgi'), (['Dronelar', 'ile', 'V', 'formasyonu', 'yap'], 'V'), (['Ok', 'basi', 'formasyonunu', 'uygula'], 'Ok başı'), (['duzgun', 'ucgen', 'ciz'], 'Üçgen'), (['Dronelar', 'ile', 'cizgi', 'cek', '.'], 'Cizgi'), (['Dronelar', 'ile', 'V', 'formasyonunu', 'gerceklestir', '.'], 'V'), (['Ok', 'basi', 'formunda', 'sekil', 'ciz', '.'], 'Ok başı'), (['ucgen', 'formasyonunu', 'ciz'], 'Üçgen'), (['Cabuk', 'cizgi', 'formasyonunu', 'ciz', '.'], 'Cizgi'), (['formasyon', 'V', 'olustur', 'hemen'], 'V'), (['Okun', 'basi', 'formasyonunu', 'ciz', 'lan', '.'], 'Ok başı'), (['Ucgen', 'formasyonunu', 'calistir', 'canim', '.'], 'Üçgen'), (['Voleybol', 'oynattir'], 'voleybol'), (['Dronelar', 'ile', 'voelybol', 'uygula'], 'voleybol'), (['Voleybol', 'formasyonunu', 'ciz'], 'voleybol'), (['Voleybol', 'turnuvasi', 'formunu', 'uygula'], 'voleybol'), (['Voleybol', 'sampiyonasi', 'formasyonunu', 'uygula', '.'], 'voleybol'), (['Çizgi', 'oluştur'], 'Cizgi'), (['V', 'oluştur'], 'V'), (['Ok', 'başı', 'yap'], 'Ok başı'), (['Üçgen', 'hattı', 'oluştur'], 'Üçgen'), (['Çizgi', 'hattında', 'dizil'], 'Cizgi'), (['V', 'hattında', 'dizil'], 'V'), (['Ok', 'başı', 'istiyorum'], 'Ok başı'), (['Üçgen', 'yap', 'artık'], 'Üçgen'), (['Dronları', 'çizgi', 'şeklinde', 'dizilir', 'mi'], 'Cizgi'), (['Dronelar', 'V', 'yapsın'], 'V'), (['Ok', 'başı', 'dizil'], 'Ok başı'), (['Üçgen', 'şeklinde', 'dizil'], 'Üçgen'), (['Droneları', 'çizgi', 'hattında', 'göster'], 'Cizgi'), (['V', 'yapmanı', 'bekliyorum'], 'V'), (['Ok', 'başı', 'olsa', 'keşkle'], 'Ok başı'), (['Üçgen', 'doğrusuna', 'ddönüş'], 'Üçgen'), (['voleybol', 'oyna'], 'voleybol'), (['voleybol', 'oynamanı', 'istiyorum'], 'voleybol'), (['voleybol', 'oyununa', 'dönüş'], 'voleybol'), (['Voleybol', 'izleyebilir', 'miyim'], 'voleybol'), (['Canım', 'sıkıldı', 'voleybol', 'izlemek', 'istiyorum'], 'voleybol'), (['Dronların', 'çizgi', 'üzerinde', 'gitmesini', 'istiyorum'], 'Cizgi'), (['V', 'şeklinde', 'uçun'], 'V'), (['Ters', 'v', 'uçuşa', 'başlayın'], 'Ok başı'), (['Üçgen', 'uçuş', 'başlasın'], 'Üçgen'), (['Dronlar', 'tek', 'çizgi', 'olarak', 'uçsun'], 'Cizgi'), (['V', 'uçuşa', 'gilsin'], 'V'), (['Dronlar', 'ok', 'başı', 'uçsun'], 'Ok başı'), (['Dronlarla', 'üçgen', 'çiz'], 'Üçgen'), (['Hat', 'üzerinde', 'uçun'], 'Cizgi'), (['Uçuşa', 'v', 'devam', 'edin'], 'V'), (['Ok', 'başı', 'uçuşa', 'geçin'], 'Ok başı'), (['İhalar', 'üçgen', 'uçsun'], 'Üçgen'), (['Hattı', 'takip', 'et'], 'Cizgi'), (['Hadi', 'v', 'uçuşu', 'yapun'], 'V'), (['Dronlar', 'bize', 'nasıl', 'ok', 'başı', 'uçtuğunuzu', 'gösterin'], 'Ok başı'), (['İhalar', 'üçgen', 'uçuş', 'gösterin'], 'Üçgen'), (['Voleybola', 'başlayın'], 'voleybol'), (['İhalar', 'voleybol', 'oynasın'], 'voleybol'), (['Dronlar', 'voleybol', 'maçına', 'başlasın'], 'voleybol'), (['Dronlar', 'voleybol', 'maçı', 'için', 'yerlerini', 'alsın'], 'voleybol'), (['Bize', 'güzel', 'bi', 'maç', 'izletin', 'ihalar'], 'voleybol'), (['dronelarla', 'bir', 'çizgi', 'üzerinde', 'hat', 'oluştururu', 'musun'], 'Cizgi'), (['V', 'çizin', 'dronelar', 'lütfen'], 'V'), (['ok', 'başı', 'çizer', 'misiniz', 'dornelarla'], 'Ok başı'), (['üçgen', 'şemalinde', 'dizilin', 'dronelar'], 'Üçgen'), (['keşkem', 'dronelaerla', 'doğrusal', 'hat', 'çizilse'], 'Cizgi'), (['V', 'çiz'], 'V'), (['droneların', 'ok', 'başı', 'şeklinde', 'diizlmesini', 'tanrıdan', 'lütuf', 'ediyorum'], 'Ok başı'), (['iç', 'açıları', 'toplamı', '180', 'derece', 'olan', 'şekil', 'gibi', 'dizilsin', 'dronelar'], 'Üçgen'), (['tanrıdan', 'tek', 'dileğim', 'droneların', 'bir', 'doğru', 'üzerinde', 'yerleşip', 'hat', 'oluşturması'], 'Cizgi'), (['V', 'şeklinde', 'iki', 'doğrudan', 'oluşan', 'hat', 'çizin'], 'V'), (['bugünkü', 'isteğim', 'ok', 'başı', 'şeklinde', 'dizilen', 'dronelar'], 'Ok başı'), (['3', 'doğrunun', 'kapalı', 'bir', 'şekil', 'elde', 'ettiği', 'şekil', 'olan', 'üçgen', 'şeklinde', 'dizil'], 'Üçgen'), (['dronelar', 'ilk', 'hedefiniz', 'bir', 'doğru', 'üzerinde', 'yerleşip', 'hat', 'oluşturmak', 'İLERİ'], 'Cizgi'), (['ben', 'droneun', 'V', 'şeklinde', 'hat', 'oluşturanını', 'severim'], 'V'), (['en', 'güzel', 'drone', 'ok', 'başı', 'şeklinde', 'dizilen', 'dronedur'], 'Ok başı'), (['dronelar', 'treeangula', 'yani', 'üçgen', 'dizilin', 'çabuk', '!', '!'], 'Üçgen'), (['3', 'dronun', 'var', 'bir', 'tanesi', 'top', '2', 'tanesi', 'de', 'topa', 'vurur', 'gibi', 'yapmasını', 've', 'top', 'bir', 'drondan', 'diğerini', 'gidip', 'geliyor', 'gibi', 'gözükmesini', 'istiyorum'], 'voleybol'), (['voleybol', 'oynayan', 'dronelar', 'istiyorun'], 'voleybol'), (['voleybol', 'oynar', 'mısınız', 'dorencuklar'], 'voleybol'), (['voleybol', 'oynayan', 'dronelar', 'istirham', 'ediyorum'], 'voleybol'), (['keşke', 'dronelar', 'Vakıfbank', 'fatma', 'gibi', 'voleybol', 'oynasa'], 'voleybol'), (['2', 'noktayı', 'birleştiren', 'geometrik', 'şekili', 'andıran', 'bir', 'formasyon', 'oluştur'], 'Cizgi'), (['3', 'köşeli', 'cisim', 'oluştur'], 'Üçgen'), (['Tek', 'hizaya', 'geç'], 'Cizgi'), (['V', 'ol'], 'V'), (['Kalem', 'ucu', 'oluştur'], 'Ok başı'), (['İç', 'açıları', '180', 'olan', 'şekil', 'oluştur'], 'Üçgen'), (['Düz', 'form', 'oluştur'], 'Cizgi'), (['Doğru', 'değil', 'v', 'sergile'], 'V'), (['Sivri', 'bir', 'yapı', 'oluştur'], 'Ok başı'), (['Bütün', 'bileşenlerin', 'çizgiyle', 'birbiriyle', 'birleştirildiğinde', 'köşe', 'olmasın'], 'Cizgi'), (['Zavallı', 'şeyler', 'arasında', 'dar', 'açı', 'olacak', 've', 'tek', 'noktada', 'birleşen', '2', 'doğru'], 'V'), (['Dik', 'büyüktür', 'işareti', 'oluştur'], 'Ok başı'), (['En', 'az', 'kenara', 'sahip', 'çokgen', 'oluştur', 'kölem'], 'Üçgen'), (['El', 'topu', 'oynayın'], 'voleybol'), (['Birbirinizi', 'birbirinize', 'fırlatın'], 'voleybol'), (['Birbirinizi', 'toplayın'], 'voleybol'), (['Futbol', 'oynayın'], 'voleybol'), (['çizgi', 'ol'], 'Cizgi'), (['v', 'istiyorum'], 'V'), (['ok', 'başı', 'olunsun'], 'Ok başı'), (['üçgen', 'göster'], 'Üçgen'), (['çizgi', 'yapılsın'], 'Cizgi'), (['v', 'ol'], 'V'), (['ok', 'başı', 'olun'], 'Ok başı'), (['üçgen', 'şekline', 'bürün'], 'Üçgen'), (['çizgi', 'yapılır', 'mı'], 'Cizgi'), (['v', 'yapılsın'], 'V'), (['ok', 'başı', 'yapılacaktı'], 'Ok başı'), (['üçgen', 'haline', 'gel'], 'Üçgen'), (['çizgi', 'gelir', 'mi'], 'Cizgi'), (['dönerse', 'senindir', 'dönmezse', 'v', 'ol'], 'V'), (['daha', 'ok', 'başı', 'olmadın', 'mı', '?'], 'Ok başı'), (['iç', 'açıları', 'toplamı', '180', 'derece', ',3', 'kenar', '3', 'köşe', 'şekline', 'gel'], 'Üçgen'), (['voleybol', 'haraketi'], 'voleybol'), (['voleybol', 'oyna'], 'voleybol'), (['top', 'oyna'], 'voleybol'), (['top', 'oyunu', 'oyna'], 'voleybol'), (['voleybol', 'şovu', 'yap'], 'voleybol'), (['Çizgi', 'formasyonu', 'oluştur'], 'Cizgi'), (['v', 'formayonunu', 'yap'], 'V'), (['Ok', 'başı', 'şeklini', \"İHA'ları\", 'kullanarak', 'dizayn', 'et', '.'], 'Ok başı'), (['üçgen', 'oluştur', '.'], 'Üçgen'), (['Doğru', 'şeklini', 'yap', '.'], 'Cizgi'), (['İhalar', 'ile', 'v', 'formayonu', 'oluştur', '.'], 'V'), (['Ok', 'başı', 'formasyonu', 'oluştur', '.'], 'Ok başı'), ([\"İHA'ları\", 'kullanarak', 'üçgen', 'çiz', '.'], 'Üçgen'), (['Line', 'oluştur', '.'], 'Cizgi'), (['V', 'şeklini', \"drone'ları\", 'kullanarak', 'oluştur', '.'], 'V'), (['Ters', 'V', 'formasyonunu', 'oluşturur', 'musun'], 'Ok başı'), (['Üçgen', 'formasyonunu', 'oluşturmanı', 'istiyorum', '.'], 'Üçgen'), (['Kardeş', 'çizgi', 'çek'], 'Cizgi'), (['v', 'formasyonu', 'oluştur', 'sana', 'zahmet'], 'V'), (['V', 'nin', 'tersini', 'yap'], 'Ok başı'), (['Üçgen', 'formasyonu', 'oluşturmak', 'gerek', '.'], 'Üçgen'), (['Voleybol', 'formasyonunu', 'oluştur', \"İHA'ları\", 'kullanarak'], 'voleybol'), (['Voleybol', 'oyna'], 'voleybol'), ([\"İHA'ları\", 'top', 'yap', 'voleybol', 'oyna'], 'voleybol'), (['Voleybol', 'formasyonunu', 'oluştur'], 'voleybol'), (['Hadi', 'voleybol', 'oynayalım', 'birlikte'], 'voleybol'), (['Düz', 'bir', 'çizgi', 'çizer', 'misin', '?'], 'Cizgi'), ([\"Drone'ları\", 'V', 'şeklinin', 'üzerine', 'koyar', 'mısınn'], 'V'), (['Rica', 'etsem', 'ok', 'başı', 'şeklinde', 'bir', 'duruş', 'sergiler', 'misin', '?'], 'Ok başı'), (['Üçgen', 'yap', '.'], 'Üçgen'), (['Açısız', 'düzgün', 'bir', 'çizgi', 'istiyorum', '.'], 'Cizgi'), (['V', 'harfi', 'şeklinde', 'dursun', 'dronelar', ',', 'emrediyorum'], 'V'), (['Konumları', 'ok', 'başına', 'benzeyecek', 'şekilde', 'drone', 'koy', '.'], 'Ok başı'), (['Üçgen', 'şeklinde', 'bir', 'formasyon', 'oluşturabilir', 'misin', '?'], 'Üçgen'), (['Bir', 'noktadan', 'bir', 'noktaya', 'dümdüz', 'bir', 'çizgi', 'çek', ',', 'o', 'çizgi', 'üzerine', \"drone'ları\", 'yerleştir', '.'], 'Cizgi'), (['V', 'formasyonunu', 'V', 'harfi', 'şeklinde', '3', 'drone', 'ile', 'yapar', 'mısın'], 'V'), (['Ok', 'başı', 'yap', '.'], 'Ok başı'), (['Bana', 'bir', 'üçgen', 'çiziyormuşsun', 'diye', 'duydum', '.'], 'Üçgen'), ([\"Drone'ları\", 'düz', 'çizgi', 'üzerine', 'sırayla', 'koy', '.'], 'Cizgi'), (['Misyonun', 'dronelar', 'ile', 'V', 'şekli', 'yapmaktır', ',', 'sana', 'güveniyorum', '.'], 'V'), (['Diriliş', \"Ertuğrul'un\", 'okunun', 'başı', 'gibi', 'bir', 'formasyon', 'oluşturasın', ',', 'tez', 'vakitte'], 'Ok başı'), (['Üçgen', 'diye', 'bi', 'şekil', 'var', 'ya', ',', 'onun', 'şeklini', 'oluştur', '.'], 'Üçgen'), (['Dronelar', 'voleybol', 'oynasın', '.'], 'voleybol'), (['3', 'drone', 'varmış', ',', 'biri', 'durmuş', ',', 'biri', 'karşısına', 'geçmiş', ',', 'diğeri', 'top', 'olmuş', '.'], 'voleybol'), (['Voleybol', 'oynayan', 'dronelar', 'gerçek', 'değildir', ',', 'aksini', 'kanıtla', '.'], 'voleybol'), (['Sana', '3', 'drone', 'veriyorum', ',', 'onları', 'voleybol', 'oynamaya', 'ikna', 'et', '.'], 'voleybol'), (['Voleybol', 'oynayan', 'dronelar', 'da', 'vardır', ',', 'görebilir', 'miyim', '?'], 'voleybol'), (['çiz', 'çizgiyi'], 'Cizgi'), (['v', 'çizgisi', 'çizmeye', 'lütfeder', 'misin'], 'V'), (['ok', 'başı', ',', 'formasyon', ',', 'gerçekleştir'], 'Ok başı'), (['üçgen', 'formasyonunu', 'gerçekleştirme', 'görevini', 'sana', 'veriyorum'], 'Üçgen'), (['çizgiyi', 'çizebilir', 'misin'], 'Cizgi'), (['sana', 'zahmet', 'bir', 'v', 'çizgisinde', 'drone', 'lari', 'hareket', 'ettir'], 'V'), (['gerçekleştirebilir', 'misin', 'ok', 'başi', 'formasyonunu'], 'Ok başı'), (['görevin', 'üçgen', 'formasyonu', ',', 'gerçekleştir', '.'], 'Üçgen'), (['Drone', 'lari', 'düzgün', 'bir', 'çizgi', 'üzerinde', 'hareket', 'ettir'], 'Cizgi'), (['dronelar', 'hareket', 'etsin', ',', 'v', 'çizgisi', 'şeklinde'], 'V'), (['sana', 'ters', 'v', 'formasyonunu', 'çizmeni', 'uygun', 'gördüm'], 'Ok başı'), (['yapacaksın', ',', 'üçgen', 'formasyonunu'], 'Üçgen'), (['çizgi', 'algoritmasında', 'drone', 'ları', 'uçur'], 'Cizgi'), (['v', 'çizgisi', 'operasyonunu', 'tamamla', 'doğrusuyla', 'yanlışıyla', 'bu', 'operasyon', 'yazılım', 'ekibine', 'aittir', 'karar', \"michael'ındır\"], 'V'), (['sen', 'ki', 'ters', 'v', 'formasyonunu', 'gerçekleştireceksin'], 'Ok başı'), (['tabi', 'sen', 'benim', 'tarafımdan', 'sana', 'verilen', 'üçgen', 'formasyonunu', 'yerine', 'getireceksin'], 'Üçgen'), (['şunu', 'gerçekleştir', ':', 'voleybol', 'formasyonu'], 'voleybol'), (['şunun', 'için', 'sonuç', 'bul', ':', 'voleybol', 'formasyonu'], 'voleybol'), (['düzgünce', 'gerçeklestir', 'voleybol', 'formasyonu'], 'voleybol'), (['voleybol', 'formasyonunu', 'düzgünce', 'yapabilir', 'misin'], 'voleybol'), (['ilk', 'adimi', 'servis', 'olan', 'spor', 'dalının', 'formasyonunu', 'yap'], 'voleybol'), (['Çizgi', 'çiz'], 'Cizgi'), (['V', 'şeklini', 'çiz'], 'V'), (['Ok', 'çiz'], 'Ok başı'), (['Üçgen', 'yap'], 'Üçgen'), (['Çizgi', 'formasyonu', 'oluştur'], 'Cizgi'), (['V', 'formastonunu', 'oluşturmalısın'], 'V'), (['Ok', 'şeklini', 'oluştur'], 'Ok başı'), (['Üçgen', 'şeklinin', 'üzerine', 'droneları', 'yerleştir', '.'], 'Üçgen'), (['Dronelar', 'çizdiğin', 'çizgide', 'hizalansın'], 'Cizgi'), (['Droneları', 'V', 'hattının', 'üzerine', 'koy'], 'V'), (['Ok', 'başı', 'yap'], 'Ok başı'), (['Üçgen', 'hattı', 'oluştur'], 'Üçgen'), (['Dronelar', 'aynı', 'çizgi', 'hattında', 'dursun'], 'Cizgi'), (['V', 'yap'], 'V'), (['Ok', 'başına', 'droneları', 'yerleştir'], 'Ok başı'), (['Üçgen', 'yapıver'], 'Üçgen'), (['Voleybol', 'oynar', 'gibi', 'droneları', 'havada', 'harket', 'ettir', '.'], 'voleybol'), (['Voleybol', 'topunun', 'harketine', 'benzer', 'hareketle', 'droneları', 'oynat'], 'voleybol'), (['Dronelara', 'voleybol', 'oynat'], 'voleybol'), (['Dronea', 'voleybol', 'topunun', 'güzergahını', 'taklit', 'ettir'], 'voleybol'), (['Dronelar', 'voleybol', 'topu', 'gibi', 'ilerlesin'], 'voleybol'), (['Çizgi', 'olun'], 'Cizgi'), (['V', 'yapın'], 'V'), (['Ok', 'başı', 'formasyonu', 'yapın'], 'Ok başı'), (['Üçgen', 'formasyonu'], 'Üçgen'), (['Çizgiye', 'geçin'], 'Cizgi'), (['V', 'formasyonuna', 'geçin'], 'V'), (['Ok', 'şekline', 'girin'], 'Ok başı'), (['Üçgen', 'olun'], 'Üçgen'), (['Çizgi', 'formasyonu', 'yapın'], 'Cizgi'), (['V', 'olun'], 'V'), (['Ok', 'olun'], 'Ok başı'), (['Üçgen', 'şekli', 'yapın'], 'Üçgen'), (['Çizgi', 'ol', 'çizgi'], 'Cizgi'), (['V', 'yapamayan', 'swarm', 'kaybetmeye', 'mahkumdur', ',', 'kaybetmeyin'], 'V'), (['Ok', 'ol', 'ok', 'ol', 'ok', 'ol'], 'Ok başı'), (['İç', 'açıları', 'toplamı', '180°', 'olan', 'geometrik', 'şekli', 'oluşturun'], 'Üçgen'), (['Voleybol', 'oynayan', 'swarm', 'formasyonuna', 'gir'], 'voleybol'), (['Voleybol', 'animasyonunu', 'gerçekleştir'], 'voleybol'), (['Voleybol', 'oynayın'], 'voleybol'), (['Voleybol', 'oynarmış', 'gibi', 'yapın', ',', 'bir', 'drone', 'top', 'olsun', '.'], 'voleybol'), (['Eda', 'Erdem', 've', 'Vargas', 'gibi', 'voleybol', 'oynayın'], 'voleybol'), (['Çizgi', 'şeklinde', 'hat', 'oluştur'], 'Cizgi'), (['V', 'şeklini', 'oluştur'], 'V'), (['Ters', 'V', 'şekili', 'oluştur'], 'Ok başı'), (['Üçgen', 'oluştur'], 'Üçgen'), (['Sıraya', 'geç'], 'Cizgi'), (['V', 'şeklinde', 'sıralan'], 'V'), (['Ok', 'başı', 'şekli', 'oluştur'], 'Ok başı'), (['Üçgen', 'cizi'], 'Üçgen'), (['Hatta', 'yerleş'], 'Cizgi'), (['Dronlarla', 'V', 'oluşturacak', 'şekilde', 'dizil'], 'V'), ([\"V'yi\", 'ters', 'olacak', 'şekilde', 'oluştur'], 'Ok başı'), (['Üçgen', 'şekli', 'oluştur'], 'Üçgen'), (['Az', 'git', 'uz', 'git', 'dere', 'tepe', 'düz', 'git'], 'Cizgi'), (['Ordan', 'bi', 'V', 'gelir', 'mi'], 'V'), (['Bir', 'de', 'ters', 'V', 'gelir', 'mi'], 'Ok başı'), (['Üçgen', 'alalım'], 'Üçgen'), (['Voleybol', 'oyununu', 'taklit', 'et'], 'voleybol'), (['Voleybol', 'oyna'], 'voleybol'), (['Voleybol', 'oyununu', 'oyna'], 'voleybol'), (['Voleybol', 'oyunu', 'şeklinde', 'hareket', 'et'], 'voleybol'), (['Ne', 'bakıyon', 'kardeş', 'oyna'], 'voleybol'), (['Hat', 'oluştur'], 'Cizgi'), (['Dronlar', 'V', 'formasyonunu', 'gerçekleştirsin'], 'V'), (['Dronlar', 'ters', 'V', 'yapsin'], 'Ok başı'), (['Dronlar', 'üçgen', 'şekline', 'gelsin'], 'Üçgen'), (['Çizgi', 'ciz'], 'Cizgi'), (['V', 'çizsin', 'dronlar'], 'V'), (['Ok', 'başı', 'formasyonu', 'gerçekleşsin'], 'Ok başı'), (['Üçgen', 'gibi', 'olsun', 'dronlar'], 'Üçgen'), (['Dronlar', 'doğru', 'olustursun'], 'Cizgi'), (['V', 'şekli', 'oluşsun'], 'V'), (['Dronlar', 'ok', 'başı', 'olsun'], 'Ok başı'), (['Dronlar', 'üçgen', 'benzeri', 'bir', 'şekil', 'yapsinlar'], 'Üçgen'), (['Dronlar', 'safları', 'sıklaştırsın'], 'Cizgi'), (['V', 'şekli', 'oluştur', 'bakalım', 'hemennnn'], 'V'), (['Dronlar', 'ok', 'gibi', 'olsun'], 'Ok başı'), (['Sevgili', 'dronlar', 'üçgen', 'olunuz'], 'Üçgen'), (['Dronlar', 'voleybol', 'oynasınlar'], 'voleybol'), (['Voleybol', 'formasyonu', 'gerceklessin'], 'voleybol'), (['Dronlar', 'özgün', 'kategori', 'görevini', 'yapsın'], 'voleybol'), (['Dron', 'top', 'olsun', 've', 'voleybol', 'oynasinlar'], 'voleybol'), (['Özel', 'bir', 'formasyon', 'istiyom', 'ismi', 'voleyboldur'], 'voleybol'), (['Bir', 'sıra', 'oluşturun', 'lütfen', '.'], 'Cizgi'), (['Aşağıya', 'doğru', 'ok', 'çizin'], 'Ok başı'), (['Ters', 'V', 'formasyonu', 'uygula'], 'Ok başı'), (['Üçgen', 'formasyonunu', 'uygula'], 'Üçgen'), (['Doğrusal', 'çizgi', 'çizin'], 'Cizgi'), (['Üçgen', 'formasyonunu', 'uygula'], 'V'), (['Ok', 'ol'], 'Ok başı'), (['Üçgen', 'halini', 'al'], 'Üçgen'), (['Düz', 'hat', 'formasyonuna', 'dizilin'], 'Cizgi'), (['V', 'harfi', 'gibi', 'diziliin'], 'V'), (['V', 'formasyonunun', 'ters', 'halini', 'al'], 'Ok başı'), (['Üçgen', 'ol'], 'Üçgen'), (['Sıra', 'oluştur', 'asker'], 'Cizgi'), (['Üçgen', 'halini', 'al', 'la'], 'V'), (['Minimum', 'köşeye', 'sahip', 'figüre', 'dönüş'], 'Üçgen'), (['Voleybol', 'maçı', 'yap'], 'voleybol'), (['Volleyball', 'gösterisi'], 'voleybol'), (['Voleybol', 'yapsana'], 'voleybol'), (['Havada', 'top', 'oyna'], 'voleybol'), (['2', 'İHA', 'diğerini', 'döver', 'gibi', 'yapsın'], 'voleybol'), (['Lütfen', 'düz', 'bir', 'çizgi', 'çizer', 'misin'], 'Cizgi'), (['V', 'formasyonunu', 'uygula'], 'V'), (['Ters', 'v', 'formasyonuna', 'geçiş', 'yapar', 'mısın'], 'Ok başı'), (['Üçgen', 'oluştur'], 'Üçgen'), (['Düz', 'bir', 'çizgi', 'çiz'], 'Cizgi'), (['V', 'şeklini', 'al'], 'V'), (['Ters', 'v', 'şeklini', 'alır', 'mısın', 'lütfen'], 'Ok başı'), (['Üçgen', 'ol'], 'Üçgen'), (['Çizgi', 'şekline', 'geç'], 'Cizgi'), (['V', 'hâline', 'geç'], 'V'), (['OK', 'başına', 'geçer', 'misin'], 'Ok başı'), (['Üçgen', 'dizilimi', 'yapar', 'mısın'], 'Üçgen'), (['Çizgi', 'şeklinde', 'bir', 'hat', 'oluştur'], 'Cizgi'), (['Bebeğim', 'v', 'şekline', 'geç'], 'V'), (['Cano', 'OK', 'başı', 'formasyonu', 'lütfen'], 'Ok başı'), (['Bir', 'zahmet', 'üçgen', 'oluştur'], 'Üçgen'), (['Voleybol', 'formasyonuna', 'geçiş', 'yap'], 'voleybol'), (['Voleybol', 'oyna'], 'voleybol'), (['Voleybol', 'maçı', 'başlasın'], 'voleybol'), (['Voleybol', 'formasyonunu', 'uygula'], 'voleybol'), (['Beraber', 'voleybol', 'oynayalım', 'mı'], 'voleybol'), (['Hizaya', 'geç'], 'Cizgi'), (['Vadinin', 'v', '’', 'si', 'formasyonuna', 'geç'], 'V'), (['Ters', 'v', 'formasyonunu', 'oluştur'], 'Ok başı'), (['Üçgen', 'ol'], 'Üçgen'), (['Çizgi', 'formasyonuna', 'geç'], 'Cizgi'), (['Kuş', 'göç', 'formasyonunu', 'oluştur'], 'V'), (['Ok', 'başı', 'formasyonuna', 'geç'], 'Ok başı'), (['Üçgen', 'formasyonuna', 'geç'], 'Üçgen'), (['Çizgi', 'ol'], 'Cizgi'), (['V', 'formasyonuna', 'geç'], 'V'), (['Oka', 'geç'], 'Ok başı'), (['Bermuda', 'üçgeni', 'formasyonunu', 'gerçekleştir'], 'Üçgen'), (['Düz', 'durun'], 'Cizgi'), (['Ok', 'ol', 'da', 'kalbime', 'saplan'], 'Ok başı'), (['İç', 'açıları', 'toplamı', '180', 'olan', 'düzgün', 'geometrik', 'şekil', 'ol'], 'Üçgen'), (['Özel', 'görevi', 'gerçekleştir'], 'voleybol'), (['Show', 'time'], 'voleybol'), (['Voleybol', 'formasyonuna', 'geç'], 'voleybol'), (['Aranızda', 'oynayıverin'], 'voleybol'), (['dronelar', 'düz', 'çizgi', 'oluştursun'], 'Cizgi'), (['v', 'yap'], 'V'), (['ters', 'v', 'çizilsin'], 'Ok başı'), (['üç', 'köşeli', 'bi', 'şekil', 'çiz'], 'Üçgen'), (['sürü', 'çizgi', 'çizsin'], 'Cizgi'), (['v', 'formasyonu', 'yap'], 'V'), (['dronelar', 'ters', 'v', 'yapsın'], 'Ok başı'), (['üç', 'kenarlı', 'bi', 'şekil', 'oluştur'], 'Üçgen'), (['sürü', 'doğru', 'oluştursun'], 'Cizgi'), (['sürü', 'v', 'yapsın'], 'V'), (['sürü', 'ters', 'v', 'çizsin'], 'Ok başı'), (['sürü', 'üçgen', 'yapsın'], 'Üçgen'), (['dronelar', 'sadece', '1', 'kenarı', 'olan', 've', 'açısı', 'her', 'yerde', 'sabit', 'olan', 'bir', 'şekil', 'oluştursun'], 'Cizgi'), (['v', 'şekli', 'peydah', 'olsun'], 'V'), (['bi', 'ok', 'başı', 'formasyonu', 'patlar', 'mı'], 'Ok başı'), (['üçgen', 'ol'], 'Üçgen'), (['dronelar', 'voleybol', 'oynasın'], 'voleybol'), (['voleybol', 'oynat'], 'voleybol'), (['voleybol', 'formasyonu', 'yapılsın'], 'voleybol'), (['dronelar', 'gösteri', 'yapsın'], 'voleybol'), (['dronelar', 'voleybol', 'oynamak', 'yapsın'], 'voleybol'), (['çizgi', 'formasyon', 'oluştur', 'doğruca'], 'Cizgi'), (['V', 'formasyonu', ',', 'drone', ',', 'uçmak', 'oluşturmak'], 'V'), (['ters', 'v', 'formasyonunu', 'düzgün', 'çalıştır'], 'Ok başı'), (['üçgen', 'formasyonunu', 'uygula'], 'Üçgen'), (['linear', 'şekilde', 'çizgi', 'formasyon', 'oluşturur', 'musun'], 'Cizgi'), (['drone', 'lar', 'uçacak', ',', 'v', 'formasyonu', 'şeklinde', ',', 'oluştur'], 'V'), (['ok', 'başi', 'formasyonunu', 'drone', 'lar', 'için', 'yapabilir', 'misin'], 'Ok başı'), (['iç', 'açıları', 'toplamı', '180⁰', 'olan', 'şekil', 'formasyonunu', 'uygulayabilir', 'misin'], 'Üçgen'), (['komut', ':', 'doğru', 'şekilde', 'çizgi', 'formasyon', 'oluştur', '!'], 'Cizgi'), (['droneların', 'uçması', 'için', 'v', 'formasyonunu', 'çalıştırmani', 'emrediyorum'], 'V'), (['3', 'drone', 'u', 'ok', 'başı', 'formasyonuyla', 'uçur'], 'Ok başı'), (['drone', 'lar', 'üçgen', 'şeklinde', 'uçurabilir', 'misin', 'ki'], 'Üçgen'), (['0', 'hata', 'payıyla', 'drone', 'ların', 'uçması', 'için', 'çizgi', 'algoritmasını', 'uygula'], 'Cizgi'), (['komut', 'benim', 'emrimdir', ',', 'o', 'v', 'formasyonu', 'çalışacak', ',', 'çalışacaksın'], 'V'), (['ok', 'başı', 'formasyonu', 'yaydan', 'çıkacak', ',', 'çalıştır'], 'Ok başı'), (['haydi', 'gari', 'üçgen', 'formasyonunu', 'çalıştırıver'], 'Üçgen'), (['drone', 'lar', 'voleybol', 'formasyonu', 'şeklinde', 'uçsun'], 'voleybol'), (['top', ',', 'formasyon', ',', 'voleybol', ',', 'uç'], 'voleybol'), (['voleybol', 'oynayan', 'drone', 'lar', 'yap'], 'voleybol'), (['Drone', 'ların', 'voleybol', 'formasyonunda', 'uçmasını', 'sağla'], 'voleybol'), (['eda', 'erdem', 'in', 'oynadığı', 'spor', \"'\", 'formasyonunu', 'çalıştır'], 'voleybol'), (['çizgi', 'formasyonunu', 'oluştur'], 'Cizgi'), (['v', 'formasyonunu', 'oluştur'], 'V'), (['ok', 'başı', 'formasyonunu', 'oluştur'], 'Ok başı'), (['üçgen', 'çiz', 'bana'], 'Üçgen'), (['çizgi', 'şeklini', 'meydana', 'getir'], 'Cizgi'), (['v', 'şeklini', 'meydana', 'getir'], 'V'), (['ters', 'v', 'geometrisini', 'oluştur'], 'Ok başı'), (['üçgen', 'formasyonunu', 'oluştururmusun'], 'Üçgen'), (['çizgiyi', 'oluştur'], 'Cizgi'), (['v', 'geometrisini', 'oluştur'], 'V'), (['ok', 'başı', 'diğer', 'adıyla', 'ters', 'v', 'formasyonunu', 'çiz'], 'Ok başı'), (['üçken', 'şeklini', 'oluştur'], 'Üçgen'), (['canımın', 'içi', 'şu', 'çizgiyi', 'çiziver', 'be'], 'Cizgi'), (['canım', 'v', 'formasyonunu', 'oluştururmusun'], 'V'), (['sana', 'emrediyorum', 'ok', 'başını', 'tut'], 'Ok başı'), (['uşağum', 'şu', 'ucgeni', 'oluştür', 'daaa'], 'Üçgen'), (['valeybol', 'oynarmısınız'], 'voleybol'), (['volleyball', 'oynarmısınız'], 'voleybol'), (['voleybol', 'formasyonunu', 'gerçekleştirin'], 'voleybol'), (['bir', 'dronun', 'top', 'yerine', 'geçtiği', 'voleybol', 'oyununu', 'oynayın'], 'voleybol'), (['valleybol', 'oynayınıverin'], 'voleybol'), (['çizgi', 'haline', 'geç'], 'Cizgi'), (['v', 'şeklininde', 'dizil'], 'V'), (['ters', 'v', 'formu', 'şeklinde', 'dizil'], 'Ok başı'), (['üçgen', 'forma', 'geçer', 'misiniz'], 'Üçgen'), (['bir', 'çizgi', 'oluşturur', 'musun'], 'Cizgi'), (['V', 'olacak', 'biçimde', 'konumlanın'], 'V'), (['ok', 'başı', 'şekli', 'alacak', 'biçimde', 'dizilin'], 'Ok başı'), (['üçgen', 'olacak', 'sekilde', 'dizilmelisiniz'], 'Üçgen'), (['doğru', 'boyunca', 'dizil'], 'Cizgi'), (['v', 'formuna', 'geç'], 'V'), (['ok', 'ucu', 'formuna', 'geç'], 'Ok başı'), (['üçgen', 'şeklini', 'alın'], 'Üçgen'), (['doğru', 'şekline', 'geç'], 'Cizgi'), (['v', 'olmanız', 'lazim'], 'V'), (['tv', 'formu', 'zamanı'], 'Ok başı'), (['ucgen', 'zamani'], 'Üçgen'), (['biriniz', 'top', 'olsun', 'ikiniz', 'karşılıklı', 'dizilsin'], 'voleybol'), (['voleybol', 'formu', 'almalısınız'], 'voleybol'), (['voleybola', 'hazır', 'hale', 'geçin'], 'voleybol'), (['maç', 'için', 'konumlanın'], 'voleybol'), (['toplanın', 'maç', 'zamanı'], 'voleybol'), (['Dronelar', 'çizgi', 'çizsin'], 'Cizgi'), (['V', 'çiz'], 'V'), (['Ok', 'bası', 'yap'], 'Ok başı'), (['Üçgen', 'yap'], 'Üçgen'), (['İhalar', 'duz', 'çizgi', 'oluştursun'], 'Cizgi'), (['V', 'formasyonunu', 'oluştur'], 'V'), (['Ok', 'başı', 'şekline', 'geç'], 'Ok başı'), (['Üçgen', 'çizerek', 'uç'], 'Üçgen'), (['Düz', 'çizgi', 'çiz'], 'Cizgi'), (['V', 'şeklinde', 'dizilin'], 'V'), (['Ters', 'V', 'şekli', 'yap'], 'Ok başı'), (['Üçgen', 'çoz', 'acil'], 'Üçgen'), (['Düz', 'çizgi', 'çizin'], 'Cizgi'), (['V', 'yap', 'hemen'], 'V'), (['Ok', 'gibi', 'bir', 'şekil', 'çiz'], 'Ok başı'), (['İç', 'açıları', 'toplamı', '180', 'olan', 'bir', 'şekil', 'yap'], 'Üçgen'), (['Voleybol', 'oyna'], 'voleybol'), (['İhalar', 'birbirlerine', 'pas', 'atsınlar'], 'voleybol'), (['Voleybol', 'oynayın'], 'voleybol'), (['Voleybol', 'oynayan', 'formasyon', 'yap'], 'voleybol'), (['Voleybol', 'oynamanız', 'lazım', 'acil'], 'voleybol'), (['Dronelar', 'çizgi', 'formasyonu', 'oluştursunlar'], 'Cizgi'), (['Tüm', 'dronelar', 'v', 'formasyonundaki', 'yerini', 'alsın'], 'V'), (['Tüm', 'dronelar', 'Ok', 'başı', 'formasyonundaki', 'yerini', 'alsın'], 'Ok başı'), (['Üçgen', 'formasyonu', 'oluşturulsun'], 'Üçgen'), (['Dronelar', 'tek', 'sıra', 'halinde', 'hizalansınlar'], 'Cizgi'), (['V', 'formasyonu', 'oluşturun'], 'V'), (['Tüm', 'dronelar', 'ters', 'v', 'formasyonundaki', 'belirlenmiş', 'yerine', 'geçsin'], 'Ok başı'), (['Tüm', 'dronelar', 'üçgen', 'formasyonundaki', 'yerini', 'alsın'], 'Üçgen'), (['Dronelar', 'aynı', 'doğru', 'üzerine', 'sıralansınlar'], 'Cizgi'), (['Dronelar', 'v', 'şeklinde', 'hizalansın'], 'V'), (['Ok', 'başı', 'formasyonu', 'oluştur'], 'Ok başı'), (['Dronelar', 'üçgen', 'formasyonunu', 'yapın'], 'Üçgen'), (['Sıraya', 'girin', 'lan'], 'Cizgi'), (['Güzelim', 'zahmet', 'olmazsa', 'şu', 'v', 'şeklini', 'biz', 'çizer', 'misin'], 'V'), (['Ters', 'v', 'formasyonuna', 'geçmeyenin', 'pilini', 'sökerim'], 'Ok başı'), (['Derhan', 'üçgen', 'ol'], 'Üçgen'), (['Dronelar', 'voleybol', 'oynasınlar'], 'voleybol'), (['Voleybol', 'formasyonuna', 'geçilsin'], 'voleybol'), (['Dronelar', 'Voleybol', 'formasyonundaki', 'görevlerini', 'yapsınlar'], 'voleybol'), (['Voleybol', 'formasyonu', 'başlatılsın'], 'voleybol'), (['Hadi', 'boleybol', 'oynayalım', 'çocuklar'], 'voleybol'), (['Dumduz', 'cizgi', 'seklinde', 'ilerler'], 'Cizgi'), (['V', 'seklini', 'olustur'], 'V'), (['Ok', 'başı', 'formasyonu', 'olustur'], 'Ok başı'), (['Üçgen', 'yap'], 'Üçgen'), (['Düz', 'bir', 'sekilde', 'siralan', 've', 'ilerle'], 'Cizgi'), (['V', 'formasyonunu', 'olustur'], 'V'), (['Ters', 'v', 'seklini', 'olustur'], 'Ok başı'), (['Üçgen', 'formasyonu', 'oluştur'], 'Üçgen'), (['Dronelar', 'cizgi', 'cizsin'], 'Cizgi'), (['V', 'yapisini', 'olustur'], 'V'), (['Ok', 'basi', 'gibi', 'v', 'olustur'], 'Ok başı'), (['Üçgen', 'seklini', 'al'], 'Üçgen'), (['Cizgi', 'çiz'], 'Cizgi'), (['V', 'yap', 'kardesim'], 'V'), (['Ok', 'yap'], 'Ok başı'), (['Üçgen', 'formasyonu', 'olustur'], 'Üçgen'), (['Biriniz', 'top', 'olsun', 'digerleri', 'voleybol', 'oynar', 'gibi', 'yapsin'], 'voleybol'), (['Voleybol', 'formasyonu', 'olustur'], 'voleybol'), (['Voleybol', 'görüntüsü', 'verin'], 'voleybol'), (['Voleybol', 'oyna'], 'voleybol'), (['Voleybol', 'oynar', 'gibi', 'hareket', 'et'], 'voleybol')]\n"
          ]
        },
        {
          "output_type": "stream",
          "name": "stderr",
          "text": [
            "[nltk_data] Downloading package punkt_tab to /root/nltk_data...\n",
            "[nltk_data]   Package punkt_tab is already up-to-date!\n"
          ]
        }
      ]
    },
    {
      "cell_type": "code",
      "source": [
        "from nltk.probability import FreqDist\n",
        "\n",
        "all_words = []\n",
        "for doc, label in documents:\n",
        "  for w in doc:\n",
        "    all_words.append(w.lower())\n",
        "\n",
        "all_words = nltk.FreqDist(all_words)\n",
        "print(all_words.most_common(15))\n",
        "print(all_words[\"üçgen\"])"
      ],
      "metadata": {
        "colab": {
          "base_uri": "https://localhost:8080/"
        },
        "id": "66ff9rO1TJF_",
        "outputId": "3029aeaa-374e-43a5-a600-3b2ca612f923"
      },
      "execution_count": null,
      "outputs": [
        {
          "output_type": "stream",
          "name": "stdout",
          "text": [
            "[('v', 131), ('voleybol', 97), ('üçgen', 83), ('ok', 75), ('çizgi', 64), ('oluştur', 62), ('.', 50), ('başı', 49), ('formasyonunu', 48), ('formasyonu', 47), ('dronelar', 46), ('bir', 43), ('yap', 39), ('çiz', 30), ('ters', 28)]\n",
            "83\n"
          ]
        }
      ]
    },
    {
      "cell_type": "code",
      "source": [
        "word_features = list(all_words.keys())[:1000]\n",
        "\n",
        "\n",
        "save_word_features = open(\"pickled_algos/word_features5k.pickle\",\"wb\")\n",
        "pickle.dump(word_features, save_word_features)\n",
        "save_word_features.close()\n",
        "print(word_features)"
      ],
      "metadata": {
        "colab": {
          "base_uri": "https://localhost:8080/"
        },
        "id": "X8lf_wZCTJDI",
        "outputId": "88afa662-bb36-4c44-8f97-f4d60a27f8fd"
      },
      "execution_count": null,
      "outputs": [
        {
          "output_type": "stream",
          "name": "stdout",
          "text": [
            "['çizgi', 'formasyonunu', 'yap', 'v', 'çiz', 'ok', 'başı', 'yapıver', 'üçgen', 'olun', 'formasyonu', 'oluştur', 'şeklini', 'çiziver', 'haline', 'gelin', 'şekli', 'şekline', 'bürün', 'üç', 'köşeli', 'şekil', 'oluşturun', 'ol', 'acele', 'oluşturcak', 'hizaya', 'oynayın', 'voleybol', 'top', 'oyna', 'voleybolcu', 'gerçekleştirmeniz', 'gerekiyor', 'oynamanızı', 'istirham', 'ediyorum', 'ters', 'bir', 'sürü', 'oluştursun', 'yapılsın', 'oluşturulsun', 'çizsin', 'dronelar', 'yaparsa', 'oldukça', 'müteşekkir', 'olurum', 'droneların', 'oluşturmasını', 'emrediyorum', 'yapmaya', 'ne', 'dersin', 'olsun', 'oynasın', 'sürüye', 'oynat', 'hadi', 'oynayalım', \"i̇ha'ları\", 'kullanarak', '.', 'kenarlı', 'geometrik', 'çizdirmesini', 'sağla', 'sürüyü', 'güzel', 'tüm', 'dronları', 'düz', 'hat', 'elindeki', 'ihalar', 'ile', \"i̇ha'larla\", 'şey', 'aga', 'dümdüz', 'bi', 'bana', 'gücünü', 've', 'zekanı', 'harfi', 'attığını', 'düşün', 'okun', 'başındaki', 'dronelara', 'üçlü', 'çektirmek', 'maksadıyla', 'şekillendir', 'şovu', 'gösterisine', 'başla', \"i̇ha'lar\", 'gösterisi', 'oyuncularını', 'taklit', 'edecek', 'şekilde', 'yarat', 'harfini', 'tasarla', 'başına', 'bır', 'olustur', 'bakayım', 'yapsana', 'ucgen', 'cız', 'geç', 'voleyboy', 'moduna', 'maçı', 'yapın', 'oynayin', 'cizgi', 'ciz', 'formunu', 'basi', 'cizdir', 'sekli', 'seklinde', 'formasyon', 'uygula', 'duzgun', 'cek', 'gerceklestir', 'formunda', 'sekil', 'cabuk', 'hemen', 'lan', 'calistir', 'canim', 'oynattir', 'voelybol', 'turnuvasi', 'sampiyonasi', 'hattı', 'hattında', 'dizil', 'istiyorum', 'artık', 'şeklinde', 'dizilir', 'mi', 'yapsın', 'droneları', 'göster', 'yapmanı', 'bekliyorum', 'olsa', 'keşkle', 'doğrusuna', 'ddönüş', 'oynamanı', 'oyununa', 'dönüş', 'izleyebilir', 'miyim', 'canım', 'sıkıldı', 'izlemek', 'dronların', 'üzerinde', 'gitmesini', 'uçun', 'uçuşa', 'başlayın', 'uçuş', 'başlasın', 'dronlar', 'tek', 'olarak', 'uçsun', 'gilsin', 'dronlarla', 'devam', 'edin', 'geçin', 'i̇halar', 'takip', 'et', 'uçuşu', 'yapun', 'bize', 'nasıl', 'uçtuğunuzu', 'gösterin', 'voleybola', 'maçına', 'için', 'yerlerini', 'alsın', 'maç', 'izletin', 'dronelarla', 'oluştururu', 'musun', 'çizin', 'lütfen', 'çizer', 'misiniz', 'dornelarla', 'şemalinde', 'dizilin', 'keşkem', 'dronelaerla', 'doğrusal', 'çizilse', 'diizlmesini', 'tanrıdan', 'lütuf', 'iç', 'açıları', 'toplamı', '180', 'derece', 'olan', 'gibi', 'dizilsin', 'dileğim', 'doğru', 'yerleşip', 'oluşturması', 'iki', 'doğrudan', 'oluşan', 'bugünkü', 'isteğim', 'dizilen', '3', 'doğrunun', 'kapalı', 'elde', 'ettiği', 'ilk', 'hedefiniz', 'oluşturmak', 'i̇leri̇', 'ben', 'droneun', 'oluşturanını', 'severim', 'en', 'drone', 'dronedur', 'treeangula', 'yani', 'çabuk', '!', 'dronun', 'var', 'tanesi', '2', 'de', 'topa', 'vurur', 'yapmasını', 'drondan', 'diğerini', 'gidip', 'geliyor', 'gözükmesini', 'oynayan', 'istiyorun', 'oynar', 'mısınız', 'dorencuklar', 'keşke', 'vakıfbank', 'fatma', 'oynasa', 'noktayı', 'birleştiren', 'şekili', 'andıran', 'cisim', 'kalem', 'ucu', 'i̇ç', 'form', 'değil', 'sergile', 'sivri', 'yapı', 'bütün', 'bileşenlerin', 'çizgiyle', 'birbiriyle', 'birleştirildiğinde', 'köşe', 'olmasın', 'zavallı', 'şeyler', 'arasında', 'dar', 'açı', 'olacak', 'noktada', 'birleşen', 'dik', 'büyüktür', 'işareti', 'az', 'kenara', 'sahip', 'çokgen', 'kölem', 'el', 'topu', 'birbirinizi', 'birbirinize', 'fırlatın', 'toplayın', 'futbol', 'olunsun', 'yapılır', 'mı', 'yapılacaktı', 'gel', 'gelir', 'dönerse', 'senindir', 'dönmezse', 'daha', 'olmadın', '?', ',3', 'kenar', 'haraketi', 'oyunu', 'formayonunu', 'dizayn', 'formayonu', 'line', \"drone'ları\", 'oluşturur', 'oluşturmanı', 'kardeş', 'çek', 'sana', 'zahmet', 'nin', 'tersini', 'gerek', 'birlikte', 'misin', 'şeklinin', 'üzerine', 'koyar', 'mısınn', 'rica', 'etsem', 'duruş', 'sergiler', 'açısız', 'düzgün', 'dursun', ',', 'konumları', 'benzeyecek', 'koy', 'oluşturabilir', 'noktadan', 'noktaya', 'o', 'yerleştir', 'yapar', 'mısın', 'çiziyormuşsun', 'diye', 'duydum', 'sırayla', 'misyonun', 'yapmaktır', 'güveniyorum', 'diriliş', \"ertuğrul'un\", 'okunun', 'oluşturasın', 'tez', 'vakitte', 'ya', 'onun', 'varmış', 'biri', 'durmuş', 'karşısına', 'geçmiş', 'diğeri', 'olmuş', 'gerçek', 'değildir', 'aksini', 'kanıtla', 'veriyorum', 'onları', 'oynamaya', 'ikna', 'da', 'vardır', 'görebilir', 'çizgiyi', 'çizgisi', 'çizmeye', 'lütfeder', 'gerçekleştir', 'gerçekleştirme', 'görevini', 'çizebilir', 'çizgisinde', 'lari', 'hareket', 'ettir', 'gerçekleştirebilir', 'başi', 'görevin', 'etsin', 'çizmeni', 'uygun', 'gördüm', 'yapacaksın', 'algoritmasında', 'ları', 'uçur', 'operasyonunu', 'tamamla', 'doğrusuyla', 'yanlışıyla', 'bu', 'operasyon', 'yazılım', 'ekibine', 'aittir', 'karar', \"michael'ındır\", 'sen', 'ki', 'gerçekleştireceksin', 'tabi', 'benim', 'tarafımdan', 'verilen', 'yerine', 'getireceksin', 'şunu', ':', 'şunun', 'sonuç', 'bul', 'düzgünce', 'gerçeklestir', 'yapabilir', 'adimi', 'servis', 'spor', 'dalının', 'formastonunu', 'oluşturmalısın', 'çizdiğin', 'çizgide', 'hizalansın', 'hattının', 'aynı', 'havada', 'harket', 'topunun', 'harketine', 'benzer', 'hareketle', 'dronea', 'güzergahını', 'ilerlesin', 'çizgiye', 'formasyonuna', 'girin', 'yapamayan', 'swarm', 'kaybetmeye', 'mahkumdur', 'kaybetmeyin', '180°', 'gir', 'animasyonunu', 'oynarmış', 'eda', 'erdem', 'vargas', 'sıraya', 'sıralan', 'cizi', 'hatta', 'yerleş', 'oluşturacak', \"v'yi\", 'git', 'uz', 'dere', 'tepe', 'ordan', 'alalım', 'oyununu', 'bakıyon', 'gerçekleştirsin', 'yapsin', 'gelsin', 'gerçekleşsin', 'olustursun', 'oluşsun', 'benzeri', 'yapsinlar', 'safları', 'sıklaştırsın', 'bakalım', 'hemennnn', 'sevgili', 'olunuz', 'oynasınlar', 'gerceklessin', 'özgün', 'kategori', 'dron', 'oynasinlar', 'özel', 'istiyom', 'ismi', 'voleyboldur', 'sıra', 'aşağıya', 'halini', 'al', 'diziliin', 'formasyonunun', 'asker', 'la', 'minimum', 'köşeye', 'figüre', 'volleyball', 'i̇ha', 'döver', 'geçiş', 'alır', 'hâline', 'geçer', 'dizilimi', 'bebeğim', 'cano', 'beraber', 'vadinin', '’', 'si', 'kuş', 'göç', 'oka', 'bermuda', 'üçgeni', 'durun', 'kalbime', 'saplan', 'görevi', 'show', 'time', 'aranızda', 'oynayıverin', 'çizilsin', 'sadece', '1', 'kenarı', 'açısı', 'her', 'yerde', 'sabit', 'peydah', 'patlar', 'gösteri', 'oynamak', 'doğruca', 'uçmak', 'çalıştır', 'linear', 'lar', 'uçacak', '180⁰', 'uygulayabilir', 'komut', 'uçması', 'çalıştırmani', 'u', 'formasyonuyla', 'uçurabilir', '0', 'hata', 'payıyla', 'ların', 'algoritmasını', 'emrimdir', 'çalışacak', 'çalışacaksın', 'yaydan', 'çıkacak', 'haydi', 'gari', 'çalıştırıver', 'uç', 'formasyonunda', 'uçmasını', 'in', 'oynadığı', \"'\", 'meydana', 'getir', 'geometrisini', 'oluştururmusun', 'diğer', 'adıyla', 'üçken', 'canımın', 'içi', 'şu', 'be', 'başını', 'tut', 'uşağum', 'ucgeni', 'oluştür', 'daaa', 'valeybol', 'oynarmısınız', 'gerçekleştirin', 'geçtiği', 'valleybol', 'oynayınıverin', 'şeklininde', 'formu', 'forma', 'biçimde', 'konumlanın', 'alacak', 'sekilde', 'dizilmelisiniz', 'boyunca', 'formuna', 'alın', 'olmanız', 'lazim', 'tv', 'zamanı', 'zamani', 'biriniz', 'ikiniz', 'karşılıklı', 'almalısınız', 'hazır', 'hale', 'toplanın', 'bası', 'duz', 'çizerek', 'çoz', 'acil', 'birbirlerine', 'pas', 'atsınlar', 'oynamanız', 'lazım', 'oluştursunlar', 'formasyonundaki', 'yerini', 'halinde', 'hizalansınlar', 'belirlenmiş', 'geçsin', 'sıralansınlar', 'güzelim', 'olmazsa', 'biz', 'geçmeyenin', 'pilini', 'sökerim', 'derhan', 'geçilsin', 'görevlerini', 'yapsınlar', 'başlatılsın', 'boleybol', 'çocuklar', 'dumduz', 'ilerler', 'seklini', 'siralan', 'ilerle', 'cizsin', 'yapisini', 'kardesim', 'digerleri', 'görüntüsü', 'verin']\n"
          ]
        }
      ]
    },
    {
      "cell_type": "code",
      "source": [
        "def find_features(document):\n",
        "\n",
        "  document = \" \".join(document) if isinstance(document, list) else document\n",
        "  words = word_tokenize(document)\n",
        "  features = {}\n",
        "\n",
        "  for w in word_features:\n",
        "    features[w] = (w in words)\n",
        "\n",
        "  return features"
      ],
      "metadata": {
        "id": "frZd53_bERNb"
      },
      "execution_count": null,
      "outputs": []
    },
    {
      "cell_type": "code",
      "source": [
        "featuresets = [(find_features(rev), category) for (rev, category) in documents]"
      ],
      "metadata": {
        "id": "XTleltsgTI__"
      },
      "execution_count": null,
      "outputs": []
    },
    {
      "cell_type": "code",
      "source": [
        "train_size = int(len(featuresets) * 0.75)\n",
        "training_test = featuresets[:train_size]\n",
        "testing_set = featuresets[train_size:]\n",
        "\n",
        "new_data_ = \"iç açıları toplamı 180 derece ,3 kenar 3 köşe şekline gel\"\n",
        "new_data = word_tokenize(new_data_)"
      ],
      "metadata": {
        "id": "CxQc9WYVTI9J"
      },
      "execution_count": null,
      "outputs": []
    },
    {
      "cell_type": "code",
      "source": [
        "classifier = nltk.NaiveBayesClassifier.train(training_test)\n",
        "prediction = classifier.classify(find_features(new_data))\n",
        "print(\"Tahmin Sonucu:\", prediction)\n",
        "print(\"Naive Bayes Algo Accuracy percent: \", (nltk.classify.accuracy(classifier, testing_set))*100)\n",
        "classifier.show_most_informative_features(15)\n",
        "\n",
        "\n",
        "save_classifier = open(\"pickled_algos/originalnaivebayes5k.pickle\",\"wb\")\n",
        "pickle.dump(classifier, save_classifier)\n",
        "save_classifier.close()"
      ],
      "metadata": {
        "colab": {
          "base_uri": "https://localhost:8080/"
        },
        "id": "RTwGxBDVEXrh",
        "outputId": "3773b77d-e6d1-412c-9f85-6af6b5cd6039"
      },
      "execution_count": null,
      "outputs": [
        {
          "output_type": "stream",
          "name": "stdout",
          "text": [
            "Tahmin Sonucu: Üçgen\n",
            "Naive Bayes Algo Accuracy percent:  78.57142857142857\n",
            "Most Informative Features\n",
            "                   şekil = True            Üçgen : Cizgi  =      7.2 : 1.0\n",
            "                 oluştur = True            Üçgen : voleyb =      6.5 : 1.0\n",
            "                şeklinde = True                V : voleyb =      6.1 : 1.0\n",
            "                     bir = True            Cizgi : V      =      5.2 : 1.0\n",
            "                 şeklini = True                V : Cizgi  =      4.5 : 1.0\n",
            "                    olan = True            Üçgen : voleyb =      4.4 : 1.0\n",
            "                    gibi = True           voleyb : V      =      4.1 : 1.0\n",
            "                     hat = True            Cizgi : V      =      3.7 : 1.0\n",
            "                     geç = True            Cizgi : Üçgen  =      3.6 : 1.0\n",
            "                     ciz = True            Cizgi : voleyb =      3.5 : 1.0\n",
            "            formasyonunu = True            Üçgen : Cizgi  =      3.5 : 1.0\n",
            "                     ile = True                V : voleyb =      3.2 : 1.0\n",
            "                       , = True                V : Cizgi  =      3.1 : 1.0\n",
            "                 şekline = True            Üçgen : voleyb =      2.8 : 1.0\n",
            "                   misin = True           Ok baş : voleyb =      2.8 : 1.0\n"
          ]
        }
      ]
    },
    {
      "cell_type": "code",
      "source": [
        "from nltk.classify.scikitlearn import SklearnClassifier\n",
        "from sklearn.naive_bayes import MultinomialNB, GaussianNB, BernoulliNB\n",
        "\n",
        "MNB_classifier = SklearnClassifier(MultinomialNB())\n",
        "MNB_classifier.train(training_test)\n",
        "prediction = MNB_classifier.classify(find_features(new_data))\n",
        "print(\"Tahmin Sonucu:\", prediction)\n",
        "print(\"MultinomialNB Algo Accuracy percent: \", (nltk.classify.accuracy(MNB_classifier, testing_set))*100)\n",
        "\n",
        "\n",
        "save_classifier = open(\"pickled_algos/MNB_classifier5k.pickle\",\"wb\")\n",
        "pickle.dump(MNB_classifier, save_classifier)\n",
        "save_classifier.close()"
      ],
      "metadata": {
        "id": "_3HJ5IQtVzDE",
        "colab": {
          "base_uri": "https://localhost:8080/"
        },
        "outputId": "afccce40-dc49-4cde-89a5-80745c69b557"
      },
      "execution_count": null,
      "outputs": [
        {
          "output_type": "stream",
          "name": "stdout",
          "text": [
            "Tahmin Sonucu: Üçgen\n",
            "MultinomialNB Algo Accuracy percent:  79.28571428571428\n"
          ]
        }
      ]
    },
    {
      "cell_type": "code",
      "source": [
        "BernaulliNB_classifier = SklearnClassifier(BernoulliNB())\n",
        "BernaulliNB_classifier.train(training_test)\n",
        "prediction = BernaulliNB_classifier.classify(find_features(new_data))\n",
        "print(\"Tahmin Sonucu:\", prediction)\n",
        "print(\"BernoulliNB Algo Accuracy percent: \", (nltk.classify.accuracy(BernaulliNB_classifier, testing_set))*100)\n",
        "\n",
        "\n",
        "save_classifier = open(\"pickled_algos/BernoulliNB_classifier5k.pickle\",\"wb\")\n",
        "pickle.dump(BernaulliNB_classifier, save_classifier)\n",
        "save_classifier.close()"
      ],
      "metadata": {
        "id": "ETQtobdhWx7B",
        "colab": {
          "base_uri": "https://localhost:8080/"
        },
        "outputId": "2a7d341f-0b6a-4318-b8c4-2d3265a18a6e"
      },
      "execution_count": null,
      "outputs": [
        {
          "output_type": "stream",
          "name": "stdout",
          "text": [
            "Tahmin Sonucu: Üçgen\n",
            "BernoulliNB Algo Accuracy percent:  75.71428571428571\n"
          ]
        }
      ]
    },
    {
      "cell_type": "code",
      "source": [
        "from sklearn.linear_model import LogisticRegression, SGDClassifier\n",
        "from sklearn.svm import SVC, LinearSVC, NuSVC\n",
        "\n",
        "\n",
        "LinearSVC_classifier = SklearnClassifier(LinearSVC())\n",
        "LinearSVC_classifier.train(training_test)\n",
        "prediction = LinearSVC_classifier.classify(find_features(new_data))\n",
        "print(\"Tahmin Sonucu:\", prediction)\n",
        "print(\"BernoulliNB Algo Accuracy percent: \", (nltk.classify.accuracy(LinearSVC_classifier, testing_set))*100)\n",
        "\n",
        "\n",
        "save_classifier = open(\"pickled_algos/LinearSVC_classifier5k.pickle\",\"wb\")\n",
        "pickle.dump(LinearSVC_classifier, save_classifier)\n",
        "save_classifier.close()"
      ],
      "metadata": {
        "id": "Vfuf8C7ZWxx4",
        "colab": {
          "base_uri": "https://localhost:8080/"
        },
        "outputId": "392ff398-48c0-4432-c97f-4e8081727eb1"
      },
      "execution_count": null,
      "outputs": [
        {
          "output_type": "stream",
          "name": "stdout",
          "text": [
            "Tahmin Sonucu: Üçgen\n",
            "BernoulliNB Algo Accuracy percent:  78.57142857142857\n"
          ]
        }
      ]
    },
    {
      "cell_type": "code",
      "source": [
        "LogisticRegression_classifier = SklearnClassifier(LogisticRegression())\n",
        "LogisticRegression_classifier.train(training_test)\n",
        "prediction = LogisticRegression_classifier.classify(find_features(new_data))\n",
        "print(\"Tahmin Sonucu:\", prediction)\n",
        "print(\"LogisticRegression Algo Accuracy percent: \", (nltk.classify.accuracy(LogisticRegression_classifier, testing_set))*100)\n",
        "\n",
        "\n",
        "save_classifier = open(\"pickled_algos/LogisticRegression_classifier5k.pickle\",\"wb\")\n",
        "pickle.dump(LogisticRegression_classifier, save_classifier)\n",
        "save_classifier.close()"
      ],
      "metadata": {
        "colab": {
          "base_uri": "https://localhost:8080/"
        },
        "id": "TcluUIDDdRYE",
        "outputId": "dfcdad28-7c09-46bb-8d9d-2451dbb9665a"
      },
      "execution_count": null,
      "outputs": [
        {
          "output_type": "stream",
          "name": "stdout",
          "text": [
            "Tahmin Sonucu: Üçgen\n",
            "LogisticRegression Algo Accuracy percent:  78.57142857142857\n"
          ]
        }
      ]
    },
    {
      "cell_type": "code",
      "source": [
        "SGDClassifier_classifier = SklearnClassifier(SGDClassifier())\n",
        "SGDClassifier_classifier.train(training_test)\n",
        "prediction = SGDClassifier_classifier.classify(find_features(new_data))\n",
        "print(\"Tahmin Sonucu:\", prediction)\n",
        "print(\"SGDClassifier Algo Accuracy percent: \", (nltk.classify.accuracy(SGDClassifier_classifier, testing_set))*100)\n",
        "\n",
        "\n",
        "save_classifier = open(\"pickled_algos/SGDC_classifier5k.pickle\",\"wb\")\n",
        "pickle.dump(SGDClassifier_classifier, save_classifier)\n",
        "save_classifier.close()"
      ],
      "metadata": {
        "colab": {
          "base_uri": "https://localhost:8080/"
        },
        "id": "oLpV4YSIdRVd",
        "outputId": "96a6640d-cb07-4a6e-9b79-ff10384f8522"
      },
      "execution_count": null,
      "outputs": [
        {
          "output_type": "stream",
          "name": "stdout",
          "text": [
            "Tahmin Sonucu: Üçgen\n",
            "SGDClassifier Algo Accuracy percent:  70.0\n"
          ]
        }
      ]
    },
    {
      "cell_type": "code",
      "source": [
        "vote_classifier = VoteClassifier(classifier,\n",
        "                                  MNB_classifier,\n",
        "                                  BernaulliNB_classifier,\n",
        "                                  SGDClassifier_classifier,\n",
        "                                  LinearSVC_classifier,\n",
        "                                  LogisticRegression_classifier)\n",
        "\n",
        "print(\"vote_classifier accuracy percent:\", (nltk.classify.accuracy(vote_classifier, testing_set))*100)"
      ],
      "metadata": {
        "colab": {
          "base_uri": "https://localhost:8080/"
        },
        "id": "fHfy8Z-kdRHc",
        "outputId": "0ff5c351-a39a-41a4-de7b-d5890f3563ad"
      },
      "execution_count": null,
      "outputs": [
        {
          "output_type": "stream",
          "name": "stdout",
          "text": [
            "vote_classifier accuracy percent: 80.0\n"
          ]
        }
      ]
    },
    {
      "cell_type": "code",
      "source": [
        "documents_f = open(\"pickled_algos/documents.pickle\", \"rb\")\n",
        "documents = pickle.load(documents_f)\n",
        "documents_f.close()\n",
        "\n",
        "word_features5k_f = open(\"pickled_algos/word_features5k.pickle\", \"rb\")\n",
        "word_features = pickle.load(word_features5k_f)\n",
        "word_features5k_f.close()\n",
        "\n",
        "def find_features(document):\n",
        "    words = word_tokenize(document)\n",
        "    features = {}\n",
        "    for w in word_features:\n",
        "        features[w] = (w in words)\n",
        "\n",
        "    return features\n",
        "\n",
        "print(len(featuresets))\n",
        "\n",
        "testing_set = featuresets[10000:]\n",
        "training_set = featuresets[:10000]\n",
        "\n",
        "open_file = open(\"pickled_algos/originalnaivebayes5k.pickle\", \"rb\")\n",
        "classifier = pickle.load(open_file)\n",
        "open_file.close()\n",
        "\n",
        "open_file = open(\"pickled_algos/MNB_classifier5k.pickle\", \"rb\")\n",
        "MNB_classifier = pickle.load(open_file)\n",
        "open_file.close()\n",
        "\n",
        "open_file = open(\"pickled_algos/BernoulliNB_classifier5k.pickle\", \"rb\")\n",
        "BernoulliNB_classifier = pickle.load(open_file)\n",
        "open_file.close()\n",
        "\n",
        "open_file = open(\"pickled_algos/LogisticRegression_classifier5k.pickle\", \"rb\")\n",
        "LogisticRegression_classifier = pickle.load(open_file)\n",
        "open_file.close()\n",
        "\n",
        "open_file = open(\"pickled_algos/LinearSVC_classifier5k.pickle\", \"rb\")\n",
        "LinearSVC_classifier = pickle.load(open_file)\n",
        "open_file.close()\n",
        "\n",
        "open_file = open(\"pickled_algos/SGDC_classifier5k.pickle\", \"rb\")\n",
        "SGDC_classifier = pickle.load(open_file)\n",
        "open_file.close()\n",
        "\n",
        "voted_classifier = VoteClassifier(\n",
        "                                  classifier,\n",
        "                                  LinearSVC_classifier,\n",
        "                                  MNB_classifier,\n",
        "                                  BernoulliNB_classifier,\n",
        "                                  LogisticRegression_classifier)\n",
        "\n",
        "def sentiment(text):\n",
        "    feats = find_features(text)\n",
        "    return voted_classifier.classify(feats),voted_classifier.confidence(feats)\n"
      ],
      "metadata": {
        "colab": {
          "base_uri": "https://localhost:8080/"
        },
        "id": "d1IhvGYm9Rve",
        "outputId": "07cb2278-e632-4b2e-c0d4-f84d69553a8c"
      },
      "execution_count": null,
      "outputs": [
        {
          "output_type": "stream",
          "name": "stdout",
          "text": [
            "559\n"
          ]
        }
      ]
    },
    {
      "cell_type": "code",
      "source": [
        "print(sentiment(\"iç açıları toplamı 180 derece ,3 kenar 3 köşe şekline gel\"))\n",
        "print(sentiment(\"Rica etsem ok başı şeklinde bir duruş sergiler misin?\"))\n"
      ],
      "metadata": {
        "colab": {
          "base_uri": "https://localhost:8080/"
        },
        "id": "tqTvHdmb9dnG",
        "outputId": "a081aa34-7baf-4821-c6db-c8b47c702550"
      },
      "execution_count": null,
      "outputs": [
        {
          "output_type": "stream",
          "name": "stdout",
          "text": [
            "('Üçgen', 1.0)\n",
            "('Ok başı', 1.0)\n"
          ]
        }
      ]
    }
  ]
}